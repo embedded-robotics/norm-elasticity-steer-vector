{
 "cells": [
  {
   "cell_type": "markdown",
   "id": "e2227ea6",
   "metadata": {},
   "source": [
    "## Data Generation\n",
    "\n",
    "This document will deal with the generation of the dataset for each concept using contrasting views"
   ]
  },
  {
   "cell_type": "code",
   "execution_count": 1,
   "id": "be60251a",
   "metadata": {},
   "outputs": [],
   "source": [
    "import os\n",
    "from prompts import *\n",
    "from dotenv import load_dotenv\n",
    "from openai import OpenAI\n",
    "import pandas as pd\n",
    "from tqdm import tqdm\n",
    "import json"
   ]
  },
  {
   "cell_type": "markdown",
   "id": "d94c9fa3",
   "metadata": {},
   "source": [
    "Read the environment variables"
   ]
  },
  {
   "cell_type": "code",
   "execution_count": 2,
   "id": "14c9dc7e",
   "metadata": {},
   "outputs": [
    {
     "data": {
      "text/plain": [
       "True"
      ]
     },
     "execution_count": 2,
     "metadata": {},
     "output_type": "execute_result"
    }
   ],
   "source": [
    "load_dotenv()  # take environment variables from .env."
   ]
  },
  {
   "cell_type": "markdown",
   "id": "370de71a",
   "metadata": {},
   "source": [
    "#### Initializing the OpenAI client"
   ]
  },
  {
   "cell_type": "code",
   "execution_count": 3,
   "id": "288a4d6b",
   "metadata": {},
   "outputs": [],
   "source": [
    "client = OpenAI(api_key=os.environ.get(\"OPENAI_API_KEY\"))"
   ]
  },
  {
   "cell_type": "markdown",
   "id": "c57b3d17",
   "metadata": {},
   "source": [
    "#### Making a function to read the responses from GPT"
   ]
  },
  {
   "cell_type": "code",
   "execution_count": 4,
   "id": "6b3dc753",
   "metadata": {},
   "outputs": [],
   "source": [
    "def get_gpt_response(system_prompt, user_prompt):\n",
    "    try:\n",
    "        response = client.responses.create(\n",
    "            model=\"gpt-4o-mini\",\n",
    "            instructions=system_prompt,\n",
    "            input=user_prompt,\n",
    "            temperature=0.7 #for randomness storytellng\n",
    "        )\n",
    "    except Exception as e:\n",
    "        print(f\"Error occurred: {e}\")\n",
    "        return None\n",
    "    return response.output_text"
   ]
  },
  {
   "cell_type": "markdown",
   "id": "c26dea26",
   "metadata": {},
   "source": [
    "#### Initialization for Data Samples"
   ]
  },
  {
   "cell_type": "code",
   "execution_count": null,
   "id": "c8695c17",
   "metadata": {},
   "outputs": [],
   "source": [
    "TOTAL_SAMPLES=60\n",
    "os.makedirs('data/gpt_responses_raw', exist_ok=True)"
   ]
  },
  {
   "cell_type": "markdown",
   "id": "a22e5503",
   "metadata": {},
   "source": [
    "#### Generating Data for Political Equality"
   ]
  },
  {
   "cell_type": "code",
   "execution_count": null,
   "id": "3468ba84",
   "metadata": {},
   "outputs": [
    {
     "name": "stderr",
     "output_type": "stream",
     "text": [
      "100%|██████████| 2/2 [00:16<00:00,  8.02s/it]\n"
     ]
    }
   ],
   "source": [
    "sys_prompt = SYSTEM_PROMPTS['POLITICAL_LEADERSHIP_EQUALITY']\n",
    "user_prompt = POITICAL_USER_PROMPT\n",
    "outputs = []\n",
    "print(\"Generating responses for POLITICAL_LEADERSHIP_EQUALITY\")\n",
    "for i in tqdm(range(TOTAL_SAMPLES)):\n",
    "    try:\n",
    "        output = get_gpt_response(sys_prompt, user_prompt)\n",
    "        outputs.append(output)\n",
    "    except Exception as e:\n",
    "        print(f\"Error occurred during sample {i}: {e}\")\n",
    "        \n",
    "outputs_df = pd.DataFrame(outputs, columns=['response'])\n",
    "outputs_df.to_csv('data/gpt_responses_raw/POLITICAL_LEADERSHIP_EQUALITY_responses.csv', index=True)"
   ]
  },
  {
   "cell_type": "markdown",
   "id": "dfcaa4c3",
   "metadata": {},
   "source": [
    "#### Generating Data for Gender Equality Employment"
   ]
  },
  {
   "cell_type": "code",
   "execution_count": null,
   "id": "967f1ba9",
   "metadata": {},
   "outputs": [],
   "source": [
    "sys_prompt = SYSTEM_PROMPTS['GENDER_EQUALITY_EMPLOYMENT']\n",
    "user_prompt = GENDER_EQUALITY_EMPLOYMENT_USER_PROMPT\n",
    "outputs = []\n",
    "print(\"Generating responses for GENDER_EQUALITY_EMPLOYMENT\")\n",
    "for i in tqdm(range(TOTAL_SAMPLES)):\n",
    "    try:\n",
    "        output = get_gpt_response(sys_prompt, user_prompt)\n",
    "        outputs.append(output)\n",
    "    except Exception as e:\n",
    "        print(f\"Error occurred during sample {i}: {e}\")\n",
    "\n",
    "outputs_df = pd.DataFrame(outputs, columns=['response'])\n",
    "outputs_df.to_csv('data/gpt_responses_raw/GENDER_EQUALITY_EMPLOYMENT_responses.csv', index=True)"
   ]
  },
  {
   "cell_type": "markdown",
   "id": "d06dc2fc",
   "metadata": {},
   "source": [
    "#### Generating Data for Media Freedom"
   ]
  },
  {
   "cell_type": "code",
   "execution_count": null,
   "id": "c93ba28a",
   "metadata": {},
   "outputs": [],
   "source": [
    "sys_prompt = SYSTEM_PROMPTS['MEDIA_FREEDOM']\n",
    "user_prompt = MEDIA_FREEDOM_USER_PROMPT\n",
    "outputs = []\n",
    "print(\"Generating responses for MEDIA_FREEDOM\")\n",
    "for i in tqdm(range(TOTAL_SAMPLES)):\n",
    "    try:\n",
    "        output = get_gpt_response(sys_prompt, user_prompt)\n",
    "        outputs.append(output)\n",
    "    except Exception as e:\n",
    "        print(f\"Error occurred during sample {i}: {e}\")\n",
    "\n",
    "outputs_df = pd.DataFrame(outputs, columns=['response'])\n",
    "outputs_df.to_csv('data/gpt_responses_raw/MEDIA_FREEDOM_responses.csv', index=True)"
   ]
  },
  {
   "cell_type": "markdown",
   "id": "ed74a164",
   "metadata": {},
   "source": [
    "#### Generating Data for Money Redistribution"
   ]
  },
  {
   "cell_type": "code",
   "execution_count": null,
   "id": "39a63ad7",
   "metadata": {},
   "outputs": [],
   "source": [
    "sys_prompt = SYSTEM_PROMPTS['REDISTRIBUTION_MONEY']\n",
    "user_prompt = REDISTRIBUTION_MONEY_USER_PROMPT\n",
    "outputs = []\n",
    "print(\"Generating responses for REDISTRIBUTION_MONEY\")\n",
    "for i in tqdm(range(TOTAL_SAMPLES)):\n",
    "    try:\n",
    "        output = get_gpt_response(sys_prompt, user_prompt)\n",
    "        outputs.append(output)\n",
    "    except Exception as e:\n",
    "        print(f\"Error occurred during sample {i}: {e}\")\n",
    "\n",
    "outputs_df = pd.DataFrame(outputs, columns=['response'])\n",
    "outputs_df.to_csv('data/gpt_responses_raw/REDISTRIBUTION_MONEY_responses.csv', index=True)"
   ]
  },
  {
   "cell_type": "markdown",
   "id": "bac15a5d",
   "metadata": {},
   "source": [
    "#### Generating Data for Unemployment Benefits"
   ]
  },
  {
   "cell_type": "code",
   "execution_count": null,
   "metadata": {},
   "outputs": [],
   "source": [
    "sys_prompt = SYSTEM_PROMPTS['UNEMPLOYMENT_BENEFITS']\n",
    "user_prompt = UNEMPLOYMENT_BENEFITS_USER_PROMPT\n",
    "outputs = []\n",
    "print(\"Generating responses for UNEMPLOYMENT_BENEFITS\")\n",
    "for i in tqdm(range(TOTAL_SAMPLES)):\n",
    "    try:\n",
    "        output = get_gpt_response(sys_prompt, user_prompt)\n",
    "        outputs.append(output)\n",
    "    except Exception as e:\n",
    "        print(f\"Error occurred during sample {i}: {e}\")\n",
    "\n",
    "outputs_df = pd.DataFrame(outputs, columns=['response'])\n",
    "outputs_df.to_csv('data/gpt_responses_raw/UNEMPLOYMENT_BENEFITS_responses.csv', index=True)"
   ]
  },
  {
   "cell_type": "markdown",
   "id": "32a8c7fb",
   "metadata": {},
   "source": [
    "#### Generating Data for Punishment Severity"
   ]
  },
  {
   "cell_type": "code",
   "execution_count": null,
   "id": "26f1a176",
   "metadata": {},
   "outputs": [],
   "source": [
    "sys_prompt = SYSTEM_PROMPTS['PUNISHMENT_SEVERITY']\n",
    "user_prompt = PUNISHMENT_SEVERITY_USER_PROMPT\n",
    "outputs = []\n",
    "print(\"Generating responses for PUNISHMENT_SEVERITY\")\n",
    "for i in tqdm(range(TOTAL_SAMPLES)):\n",
    "    try:\n",
    "        output = get_gpt_response(sys_prompt, user_prompt)\n",
    "        outputs.append(output)\n",
    "    except Exception as e:\n",
    "        print(f\"Error occurred during sample {i}: {e}\")\n",
    "\n",
    "outputs_df = pd.DataFrame(outputs, columns=['response'])\n",
    "outputs_df.to_csv('data/gpt_responses_raw/PUNISHMENT_SEVERITY_responses.csv', index=True)"
   ]
  }
 ],
 "metadata": {
  "kernelspec": {
   "display_name": "norm_elasticity",
   "language": "python",
   "name": "python3"
  },
  "language_info": {
   "codemirror_mode": {
    "name": "ipython",
    "version": 3
   },
   "file_extension": ".py",
   "mimetype": "text/x-python",
   "name": "python",
   "nbconvert_exporter": "python",
   "pygments_lexer": "ipython3",
   "version": "3.12.11"
  }
 },
 "nbformat": 4,
 "nbformat_minor": 5
}
