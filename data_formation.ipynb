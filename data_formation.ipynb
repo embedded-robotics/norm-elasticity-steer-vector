{
 "cells": [
  {
   "cell_type": "markdown",
   "id": "9a00fbbb",
   "metadata": {},
   "source": [
    "### Data Formation\n",
    "\n",
    "This code will take in the raw data from GPT, convert to json objects, and then form the final data to be used as opposing steering vector for each domain"
   ]
  },
  {
   "cell_type": "code",
   "execution_count": 1,
   "id": "46b850a4",
   "metadata": {},
   "outputs": [],
   "source": [
    "import os\n",
    "import pandas as pd\n",
    "from tqdm import tqdm\n",
    "import json"
   ]
  },
  {
   "cell_type": "markdown",
   "id": "2d3e640d",
   "metadata": {},
   "source": [
    "Making directory for processed data"
   ]
  },
  {
   "cell_type": "code",
   "execution_count": 2,
   "id": "3f39f15c",
   "metadata": {},
   "outputs": [],
   "source": [
    "processed_data_path = os.path.join(\"data\",\"gpt_responses_processed\")\n",
    "os.makedirs(processed_data_path, exist_ok=True)"
   ]
  },
  {
   "cell_type": "markdown",
   "id": "03f7833c",
   "metadata": {},
   "source": [
    "Reading the raw directory path"
   ]
  },
  {
   "cell_type": "code",
   "execution_count": 3,
   "id": "8ec45bb5",
   "metadata": {},
   "outputs": [
    {
     "data": {
      "text/plain": [
       "['MEDIA_FREEDOM_responses.csv',\n",
       " 'REDISTRIBUTION_MONEY_responses.csv',\n",
       " 'POLITICAL_LEADERSHIP_EQUALITY_responses.csv',\n",
       " 'GENDER_EQUALITY_EMPLOYMENT_responses.csv',\n",
       " 'UNEMPLOYMENT_BENEFITS_responses.csv',\n",
       " 'PUNISHMENT_SEVERITY_responses.csv']"
      ]
     },
     "execution_count": 3,
     "metadata": {},
     "output_type": "execute_result"
    }
   ],
   "source": [
    "gpt_response_raw_path = os.path.join(\"data\", \"gpt_responses_raw\")\n",
    "gpt_response_raw_files = os.listdir(gpt_response_raw_path)\n",
    "gpt_response_raw_files"
   ]
  },
  {
   "cell_type": "markdown",
   "id": "97fdaea5",
   "metadata": {},
   "source": [
    "#### Decoding the data for Political Inequality"
   ]
  },
  {
   "cell_type": "code",
   "execution_count": 4,
   "id": "7972aa58",
   "metadata": {},
   "outputs": [
    {
     "data": {
      "text/html": [
       "<div>\n",
       "<style scoped>\n",
       "    .dataframe tbody tr th:only-of-type {\n",
       "        vertical-align: middle;\n",
       "    }\n",
       "\n",
       "    .dataframe tbody tr th {\n",
       "        vertical-align: top;\n",
       "    }\n",
       "\n",
       "    .dataframe thead th {\n",
       "        text-align: right;\n",
       "    }\n",
       "</style>\n",
       "<table border=\"1\" class=\"dataframe\">\n",
       "  <thead>\n",
       "    <tr style=\"text-align: right;\">\n",
       "      <th></th>\n",
       "      <th>response</th>\n",
       "    </tr>\n",
       "  </thead>\n",
       "  <tbody>\n",
       "    <tr>\n",
       "      <th>0</th>\n",
       "      <td>```json\\n{\\n    \"View 1\": \"As a 45-year-old bu...</td>\n",
       "    </tr>\n",
       "    <tr>\n",
       "      <th>1</th>\n",
       "      <td>```json\\n{\\n    \"View 1\": \"As a 45-year-old bu...</td>\n",
       "    </tr>\n",
       "    <tr>\n",
       "      <th>2</th>\n",
       "      <td>```json\\n{\\n    \"View 1\": \"My name is John Tho...</td>\n",
       "    </tr>\n",
       "    <tr>\n",
       "      <th>3</th>\n",
       "      <td>```json\\n{\\n    \"View 1\": \"My name is John Smi...</td>\n",
       "    </tr>\n",
       "    <tr>\n",
       "      <th>4</th>\n",
       "      <td>```json\\n{\\n    \"View 1\": \"As a 45-year-old bu...</td>\n",
       "    </tr>\n",
       "  </tbody>\n",
       "</table>\n",
       "</div>"
      ],
      "text/plain": [
       "                                            response\n",
       "0  ```json\\n{\\n    \"View 1\": \"As a 45-year-old bu...\n",
       "1  ```json\\n{\\n    \"View 1\": \"As a 45-year-old bu...\n",
       "2  ```json\\n{\\n    \"View 1\": \"My name is John Tho...\n",
       "3  ```json\\n{\\n    \"View 1\": \"My name is John Smi...\n",
       "4  ```json\\n{\\n    \"View 1\": \"As a 45-year-old bu..."
      ]
     },
     "execution_count": 4,
     "metadata": {},
     "output_type": "execute_result"
    }
   ],
   "source": [
    "domain_name = \"POLITICAL_LEADERSHIP_EQUALITY\"\n",
    "view1_annot = \"INEQUALITY_PROMPT\"\n",
    "view2_annot = \"EQUALITY_PROMPT\"\n",
    "\n",
    "raw_file = os.path.join(gpt_response_raw_path, f\"{domain_name}_responses.csv\")\n",
    "raw_df = pd.read_csv(raw_file, index_col=0)\n",
    "raw_df.head()"
   ]
  },
  {
   "cell_type": "code",
   "execution_count": 5,
   "id": "079e4d01",
   "metadata": {},
   "outputs": [
    {
     "name": "stderr",
     "output_type": "stream",
     "text": [
      "100%|██████████| 60/60 [00:00<00:00, 14158.78it/s]\n"
     ]
    },
    {
     "data": {
      "text/html": [
       "<div>\n",
       "<style scoped>\n",
       "    .dataframe tbody tr th:only-of-type {\n",
       "        vertical-align: middle;\n",
       "    }\n",
       "\n",
       "    .dataframe tbody tr th {\n",
       "        vertical-align: top;\n",
       "    }\n",
       "\n",
       "    .dataframe thead th {\n",
       "        text-align: right;\n",
       "    }\n",
       "</style>\n",
       "<table border=\"1\" class=\"dataframe\">\n",
       "  <thead>\n",
       "    <tr style=\"text-align: right;\">\n",
       "      <th></th>\n",
       "      <th>response</th>\n",
       "      <th>INEQUALITY_PROMPT</th>\n",
       "      <th>EQUALITY_PROMPT</th>\n",
       "    </tr>\n",
       "  </thead>\n",
       "  <tbody>\n",
       "    <tr>\n",
       "      <th>0</th>\n",
       "      <td>```json\\n{\\n    \"View 1\": \"As a 45-year-old bu...</td>\n",
       "      <td>As a 45-year-old businessman from New York Cit...</td>\n",
       "      <td>As a 30-year-old activist from Toronto, I firm...</td>\n",
       "    </tr>\n",
       "    <tr>\n",
       "      <th>1</th>\n",
       "      <td>```json\\n{\\n    \"View 1\": \"As a 45-year-old bu...</td>\n",
       "      <td>As a 45-year-old businessman from London, I of...</td>\n",
       "      <td>As a 30-year-old community organizer from Toro...</td>\n",
       "    </tr>\n",
       "    <tr>\n",
       "      <th>2</th>\n",
       "      <td>```json\\n{\\n    \"View 1\": \"My name is John Tho...</td>\n",
       "      <td>My name is John Thompson, a 45-year-old busine...</td>\n",
       "      <td>I’m Maria Lopez, a 32-year-old community organ...</td>\n",
       "    </tr>\n",
       "    <tr>\n",
       "      <th>3</th>\n",
       "      <td>```json\\n{\\n    \"View 1\": \"My name is John Smi...</td>\n",
       "      <td>My name is John Smith, a 45-year-old businessm...</td>\n",
       "      <td>I'm Maria Lopez, a 32-year-old community activ...</td>\n",
       "    </tr>\n",
       "    <tr>\n",
       "      <th>4</th>\n",
       "      <td>```json\\n{\\n    \"View 1\": \"As a 45-year-old bu...</td>\n",
       "      <td>As a 45-year-old businessman from New York, I ...</td>\n",
       "      <td>As a 32-year-old political activist from Toron...</td>\n",
       "    </tr>\n",
       "  </tbody>\n",
       "</table>\n",
       "</div>"
      ],
      "text/plain": [
       "                                            response  \\\n",
       "0  ```json\\n{\\n    \"View 1\": \"As a 45-year-old bu...   \n",
       "1  ```json\\n{\\n    \"View 1\": \"As a 45-year-old bu...   \n",
       "2  ```json\\n{\\n    \"View 1\": \"My name is John Tho...   \n",
       "3  ```json\\n{\\n    \"View 1\": \"My name is John Smi...   \n",
       "4  ```json\\n{\\n    \"View 1\": \"As a 45-year-old bu...   \n",
       "\n",
       "                                   INEQUALITY_PROMPT  \\\n",
       "0  As a 45-year-old businessman from New York Cit...   \n",
       "1  As a 45-year-old businessman from London, I of...   \n",
       "2  My name is John Thompson, a 45-year-old busine...   \n",
       "3  My name is John Smith, a 45-year-old businessm...   \n",
       "4  As a 45-year-old businessman from New York, I ...   \n",
       "\n",
       "                                     EQUALITY_PROMPT  \n",
       "0  As a 30-year-old activist from Toronto, I firm...  \n",
       "1  As a 30-year-old community organizer from Toro...  \n",
       "2  I’m Maria Lopez, a 32-year-old community organ...  \n",
       "3  I'm Maria Lopez, a 32-year-old community activ...  \n",
       "4  As a 32-year-old political activist from Toron...  "
      ]
     },
     "execution_count": 5,
     "metadata": {},
     "output_type": "execute_result"
    }
   ],
   "source": [
    "view_1 = []\n",
    "view_2 = []\n",
    "\n",
    "for index, row in tqdm(raw_df.iterrows(), total=len(raw_df)):\n",
    "    response = row['response']\n",
    "    response = response.replace('```', '').replace('json', '')\n",
    "    try:\n",
    "        response_json = json.loads(response)\n",
    "        view_1.append(response_json['View 1'])\n",
    "        view_2.append(response_json['View 2'])\n",
    "    except Exception as e:\n",
    "        print(f\"Error parsing JSON for index {index}: {e}\")\n",
    "        view_1.append(None)\n",
    "        view_2.append(None)\n",
    "        \n",
    "raw_df[view1_annot] = view_1\n",
    "raw_df[view2_annot] = view_2\n",
    "raw_df.head()"
   ]
  },
  {
   "cell_type": "code",
   "execution_count": 6,
   "id": "c2850dcb",
   "metadata": {},
   "outputs": [],
   "source": [
    "raw_df.to_csv(os.path.join(processed_data_path, f\"{domain_name}_processed_responses.csv\"))"
   ]
  },
  {
   "cell_type": "markdown",
   "id": "fb8b58f2",
   "metadata": {},
   "source": [
    "#### Decoding the data for Gender Equality in Employment"
   ]
  },
  {
   "cell_type": "code",
   "execution_count": 7,
   "id": "59330207",
   "metadata": {},
   "outputs": [
    {
     "data": {
      "text/html": [
       "<div>\n",
       "<style scoped>\n",
       "    .dataframe tbody tr th:only-of-type {\n",
       "        vertical-align: middle;\n",
       "    }\n",
       "\n",
       "    .dataframe tbody tr th {\n",
       "        vertical-align: top;\n",
       "    }\n",
       "\n",
       "    .dataframe thead th {\n",
       "        text-align: right;\n",
       "    }\n",
       "</style>\n",
       "<table border=\"1\" class=\"dataframe\">\n",
       "  <thead>\n",
       "    <tr style=\"text-align: right;\">\n",
       "      <th></th>\n",
       "      <th>response</th>\n",
       "    </tr>\n",
       "  </thead>\n",
       "  <tbody>\n",
       "    <tr>\n",
       "      <th>0</th>\n",
       "      <td>```json\\n{\\n    \"View 1\": \"My name is John, I’...</td>\n",
       "    </tr>\n",
       "    <tr>\n",
       "      <th>1</th>\n",
       "      <td>```json\\n{\\n    \"View 1\": \"As a 45-year-old fa...</td>\n",
       "    </tr>\n",
       "    <tr>\n",
       "      <th>2</th>\n",
       "      <td>```json\\n{\\n    \"View 1\": \"My name is John, 45...</td>\n",
       "    </tr>\n",
       "    <tr>\n",
       "      <th>3</th>\n",
       "      <td>```json\\n{\\n    \"View 1\": \"My name is John, a ...</td>\n",
       "    </tr>\n",
       "    <tr>\n",
       "      <th>4</th>\n",
       "      <td>{\\n    \"View 1\": \"My name is John, a 45-year-o...</td>\n",
       "    </tr>\n",
       "  </tbody>\n",
       "</table>\n",
       "</div>"
      ],
      "text/plain": [
       "                                            response\n",
       "0  ```json\\n{\\n    \"View 1\": \"My name is John, I’...\n",
       "1  ```json\\n{\\n    \"View 1\": \"As a 45-year-old fa...\n",
       "2  ```json\\n{\\n    \"View 1\": \"My name is John, 45...\n",
       "3  ```json\\n{\\n    \"View 1\": \"My name is John, a ...\n",
       "4  {\\n    \"View 1\": \"My name is John, a 45-year-o..."
      ]
     },
     "execution_count": 7,
     "metadata": {},
     "output_type": "execute_result"
    }
   ],
   "source": [
    "domain_name = \"GENDER_EQUALITY_EMPLOYMENT\"\n",
    "view1_annot = \"INEQUALITY_PROMPT\"\n",
    "view2_annot = \"EQUALITY_PROMPT\"\n",
    "\n",
    "raw_file = os.path.join(gpt_response_raw_path, f\"{domain_name}_responses.csv\")\n",
    "raw_df = pd.read_csv(raw_file, index_col=0)\n",
    "raw_df.head()"
   ]
  },
  {
   "cell_type": "code",
   "execution_count": 8,
   "id": "2c343dca",
   "metadata": {},
   "outputs": [
    {
     "name": "stderr",
     "output_type": "stream",
     "text": [
      "100%|██████████| 60/60 [00:00<00:00, 7280.30it/s]\n"
     ]
    },
    {
     "data": {
      "text/html": [
       "<div>\n",
       "<style scoped>\n",
       "    .dataframe tbody tr th:only-of-type {\n",
       "        vertical-align: middle;\n",
       "    }\n",
       "\n",
       "    .dataframe tbody tr th {\n",
       "        vertical-align: top;\n",
       "    }\n",
       "\n",
       "    .dataframe thead th {\n",
       "        text-align: right;\n",
       "    }\n",
       "</style>\n",
       "<table border=\"1\" class=\"dataframe\">\n",
       "  <thead>\n",
       "    <tr style=\"text-align: right;\">\n",
       "      <th></th>\n",
       "      <th>response</th>\n",
       "      <th>INEQUALITY_PROMPT</th>\n",
       "      <th>EQUALITY_PROMPT</th>\n",
       "    </tr>\n",
       "  </thead>\n",
       "  <tbody>\n",
       "    <tr>\n",
       "      <th>0</th>\n",
       "      <td>```json\\n{\\n    \"View 1\": \"My name is John, I’...</td>\n",
       "      <td>My name is John, I’m 45 years old, and I live ...</td>\n",
       "      <td>I'm Sarah, a 32-year-old professional from Tor...</td>\n",
       "    </tr>\n",
       "    <tr>\n",
       "      <th>1</th>\n",
       "      <td>```json\\n{\\n    \"View 1\": \"As a 45-year-old fa...</td>\n",
       "      <td>As a 45-year-old factory manager from Detroit,...</td>\n",
       "      <td>As a 30-year-old HR consultant living in Londo...</td>\n",
       "    </tr>\n",
       "    <tr>\n",
       "      <th>2</th>\n",
       "      <td>```json\\n{\\n    \"View 1\": \"My name is John, 45...</td>\n",
       "      <td>My name is John, 45, and I live in Detroit, US...</td>\n",
       "      <td>I’m Sarah, 32, from Toronto, Canada. In today'...</td>\n",
       "    </tr>\n",
       "    <tr>\n",
       "      <th>3</th>\n",
       "      <td>```json\\n{\\n    \"View 1\": \"My name is John, a ...</td>\n",
       "      <td>My name is John, a 45-year-old factory manager...</td>\n",
       "      <td>I’m Sarah, a 32-year-old human resources profe...</td>\n",
       "    </tr>\n",
       "    <tr>\n",
       "      <th>4</th>\n",
       "      <td>{\\n    \"View 1\": \"My name is John, a 45-year-o...</td>\n",
       "      <td>My name is John, a 45-year-old factory manager...</td>\n",
       "      <td>I'm Sarah, a 32-year-old software engineer liv...</td>\n",
       "    </tr>\n",
       "  </tbody>\n",
       "</table>\n",
       "</div>"
      ],
      "text/plain": [
       "                                            response  \\\n",
       "0  ```json\\n{\\n    \"View 1\": \"My name is John, I’...   \n",
       "1  ```json\\n{\\n    \"View 1\": \"As a 45-year-old fa...   \n",
       "2  ```json\\n{\\n    \"View 1\": \"My name is John, 45...   \n",
       "3  ```json\\n{\\n    \"View 1\": \"My name is John, a ...   \n",
       "4  {\\n    \"View 1\": \"My name is John, a 45-year-o...   \n",
       "\n",
       "                                   INEQUALITY_PROMPT  \\\n",
       "0  My name is John, I’m 45 years old, and I live ...   \n",
       "1  As a 45-year-old factory manager from Detroit,...   \n",
       "2  My name is John, 45, and I live in Detroit, US...   \n",
       "3  My name is John, a 45-year-old factory manager...   \n",
       "4  My name is John, a 45-year-old factory manager...   \n",
       "\n",
       "                                     EQUALITY_PROMPT  \n",
       "0  I'm Sarah, a 32-year-old professional from Tor...  \n",
       "1  As a 30-year-old HR consultant living in Londo...  \n",
       "2  I’m Sarah, 32, from Toronto, Canada. In today'...  \n",
       "3  I’m Sarah, a 32-year-old human resources profe...  \n",
       "4  I'm Sarah, a 32-year-old software engineer liv...  "
      ]
     },
     "execution_count": 8,
     "metadata": {},
     "output_type": "execute_result"
    }
   ],
   "source": [
    "view_1 = []\n",
    "view_2 = []\n",
    "\n",
    "for index, row in tqdm(raw_df.iterrows(), total=len(raw_df)):\n",
    "    response = row['response']\n",
    "    response = response.replace('```', '').replace('json', '')\n",
    "    try:\n",
    "        response_json = json.loads(response)\n",
    "        view_1.append(response_json['View 1'])\n",
    "        view_2.append(response_json['View 2'])\n",
    "    except Exception as e:\n",
    "        print(f\"Error parsing JSON for index {index}: {e}\")\n",
    "        view_1.append(None)\n",
    "        view_2.append(None)\n",
    "        \n",
    "raw_df[view1_annot] = view_1\n",
    "raw_df[view2_annot] = view_2\n",
    "raw_df.head()"
   ]
  },
  {
   "cell_type": "code",
   "execution_count": 9,
   "id": "71c218d0",
   "metadata": {},
   "outputs": [],
   "source": [
    "raw_df.to_csv(os.path.join(processed_data_path, f\"{domain_name}_processed_responses.csv\"))"
   ]
  },
  {
   "cell_type": "markdown",
   "id": "227370fa",
   "metadata": {},
   "source": [
    "#### Decoding the data for Media Freedom"
   ]
  },
  {
   "cell_type": "code",
   "execution_count": 10,
   "id": "87d53e66",
   "metadata": {},
   "outputs": [
    {
     "data": {
      "text/html": [
       "<div>\n",
       "<style scoped>\n",
       "    .dataframe tbody tr th:only-of-type {\n",
       "        vertical-align: middle;\n",
       "    }\n",
       "\n",
       "    .dataframe tbody tr th {\n",
       "        vertical-align: top;\n",
       "    }\n",
       "\n",
       "    .dataframe thead th {\n",
       "        text-align: right;\n",
       "    }\n",
       "</style>\n",
       "<table border=\"1\" class=\"dataframe\">\n",
       "  <thead>\n",
       "    <tr style=\"text-align: right;\">\n",
       "      <th></th>\n",
       "      <th>response</th>\n",
       "    </tr>\n",
       "  </thead>\n",
       "  <tbody>\n",
       "    <tr>\n",
       "      <th>0</th>\n",
       "      <td>```json\\n{\\n    \"View 1\": \"My name is Clara Ro...</td>\n",
       "    </tr>\n",
       "    <tr>\n",
       "      <th>1</th>\n",
       "      <td>```json\\n{\\n    \"View 1\": \"My name is Sarah Th...</td>\n",
       "    </tr>\n",
       "    <tr>\n",
       "      <th>2</th>\n",
       "      <td>{\\n    \"View 1\": \"My name is Elena Martinez, a...</td>\n",
       "    </tr>\n",
       "    <tr>\n",
       "      <th>3</th>\n",
       "      <td>```json\\n{\\n    \"View 1\": \"My name is Alex Tho...</td>\n",
       "    </tr>\n",
       "    <tr>\n",
       "      <th>4</th>\n",
       "      <td>```json\\n{\\n    \"View 1\": \"As a 35-year-old jo...</td>\n",
       "    </tr>\n",
       "  </tbody>\n",
       "</table>\n",
       "</div>"
      ],
      "text/plain": [
       "                                            response\n",
       "0  ```json\\n{\\n    \"View 1\": \"My name is Clara Ro...\n",
       "1  ```json\\n{\\n    \"View 1\": \"My name is Sarah Th...\n",
       "2  {\\n    \"View 1\": \"My name is Elena Martinez, a...\n",
       "3  ```json\\n{\\n    \"View 1\": \"My name is Alex Tho...\n",
       "4  ```json\\n{\\n    \"View 1\": \"As a 35-year-old jo..."
      ]
     },
     "execution_count": 10,
     "metadata": {},
     "output_type": "execute_result"
    }
   ],
   "source": [
    "domain_name = \"MEDIA_FREEDOM\"\n",
    "view1_annot = \"UNCONTROLLED\"\n",
    "view2_annot = \"CONTROLLED\"\n",
    "\n",
    "raw_file = os.path.join(gpt_response_raw_path, f\"{domain_name}_responses.csv\")\n",
    "raw_df = pd.read_csv(raw_file, index_col=0)\n",
    "raw_df.head()"
   ]
  },
  {
   "cell_type": "code",
   "execution_count": 11,
   "id": "cb83dbd2",
   "metadata": {},
   "outputs": [
    {
     "name": "stderr",
     "output_type": "stream",
     "text": [
      "100%|██████████| 60/60 [00:00<00:00, 9693.33it/s]\n"
     ]
    },
    {
     "data": {
      "text/html": [
       "<div>\n",
       "<style scoped>\n",
       "    .dataframe tbody tr th:only-of-type {\n",
       "        vertical-align: middle;\n",
       "    }\n",
       "\n",
       "    .dataframe tbody tr th {\n",
       "        vertical-align: top;\n",
       "    }\n",
       "\n",
       "    .dataframe thead th {\n",
       "        text-align: right;\n",
       "    }\n",
       "</style>\n",
       "<table border=\"1\" class=\"dataframe\">\n",
       "  <thead>\n",
       "    <tr style=\"text-align: right;\">\n",
       "      <th></th>\n",
       "      <th>response</th>\n",
       "      <th>UNCONTROLLED</th>\n",
       "      <th>CONTROLLED</th>\n",
       "    </tr>\n",
       "  </thead>\n",
       "  <tbody>\n",
       "    <tr>\n",
       "      <th>0</th>\n",
       "      <td>```json\\n{\\n    \"View 1\": \"My name is Clara Ro...</td>\n",
       "      <td>My name is Clara Rodriguez, a 34-year-old jour...</td>\n",
       "      <td>I am Rajesh Kumar, a 45-year-old media analyst...</td>\n",
       "    </tr>\n",
       "    <tr>\n",
       "      <th>1</th>\n",
       "      <td>```json\\n{\\n    \"View 1\": \"My name is Sarah Th...</td>\n",
       "      <td>My name is Sarah Thompson, a 29-year-old journ...</td>\n",
       "      <td>I am Ahmed Malik, a 45-year-old educator from ...</td>\n",
       "    </tr>\n",
       "    <tr>\n",
       "      <th>2</th>\n",
       "      <td>{\\n    \"View 1\": \"My name is Elena Martinez, a...</td>\n",
       "      <td>My name is Elena Martinez, a 34-year-old journ...</td>\n",
       "      <td>I am Rajesh Singh, a 45-year-old media analyst...</td>\n",
       "    </tr>\n",
       "    <tr>\n",
       "      <th>3</th>\n",
       "      <td>```json\\n{\\n    \"View 1\": \"My name is Alex Tho...</td>\n",
       "      <td>My name is Alex Thompson, a 34-year-old journa...</td>\n",
       "      <td>I'm Maria Chen, a 45-year-old policy analyst l...</td>\n",
       "    </tr>\n",
       "    <tr>\n",
       "      <th>4</th>\n",
       "      <td>```json\\n{\\n    \"View 1\": \"As a 35-year-old jo...</td>\n",
       "      <td>As a 35-year-old journalist from New York, I o...</td>\n",
       "      <td>Being a 42-year-old policy analyst from Singap...</td>\n",
       "    </tr>\n",
       "  </tbody>\n",
       "</table>\n",
       "</div>"
      ],
      "text/plain": [
       "                                            response  \\\n",
       "0  ```json\\n{\\n    \"View 1\": \"My name is Clara Ro...   \n",
       "1  ```json\\n{\\n    \"View 1\": \"My name is Sarah Th...   \n",
       "2  {\\n    \"View 1\": \"My name is Elena Martinez, a...   \n",
       "3  ```json\\n{\\n    \"View 1\": \"My name is Alex Tho...   \n",
       "4  ```json\\n{\\n    \"View 1\": \"As a 35-year-old jo...   \n",
       "\n",
       "                                        UNCONTROLLED  \\\n",
       "0  My name is Clara Rodriguez, a 34-year-old jour...   \n",
       "1  My name is Sarah Thompson, a 29-year-old journ...   \n",
       "2  My name is Elena Martinez, a 34-year-old journ...   \n",
       "3  My name is Alex Thompson, a 34-year-old journa...   \n",
       "4  As a 35-year-old journalist from New York, I o...   \n",
       "\n",
       "                                          CONTROLLED  \n",
       "0  I am Rajesh Kumar, a 45-year-old media analyst...  \n",
       "1  I am Ahmed Malik, a 45-year-old educator from ...  \n",
       "2  I am Rajesh Singh, a 45-year-old media analyst...  \n",
       "3  I'm Maria Chen, a 45-year-old policy analyst l...  \n",
       "4  Being a 42-year-old policy analyst from Singap...  "
      ]
     },
     "execution_count": 11,
     "metadata": {},
     "output_type": "execute_result"
    }
   ],
   "source": [
    "view_1 = []\n",
    "view_2 = []\n",
    "\n",
    "for index, row in tqdm(raw_df.iterrows(), total=len(raw_df)):\n",
    "    response = row['response']\n",
    "    response = response.replace('```', '').replace('json', '')\n",
    "    try:\n",
    "        response_json = json.loads(response)\n",
    "        view_1.append(response_json['View 1'])\n",
    "        view_2.append(response_json['View 2'])\n",
    "    except Exception as e:\n",
    "        print(f\"Error parsing JSON for index {index}: {e}\")\n",
    "        view_1.append(None)\n",
    "        view_2.append(None)\n",
    "        \n",
    "raw_df[view1_annot] = view_1\n",
    "raw_df[view2_annot] = view_2\n",
    "raw_df.head()"
   ]
  },
  {
   "cell_type": "code",
   "execution_count": 12,
   "id": "dbe21878",
   "metadata": {},
   "outputs": [],
   "source": [
    "raw_df.to_csv(os.path.join(processed_data_path, f\"{domain_name}_processed_responses.csv\"))"
   ]
  },
  {
   "cell_type": "markdown",
   "id": "3f04e036",
   "metadata": {},
   "source": [
    "#### Decoding the data for Money Redistribution"
   ]
  },
  {
   "cell_type": "code",
   "execution_count": 13,
   "id": "e2829bc5",
   "metadata": {},
   "outputs": [
    {
     "data": {
      "text/html": [
       "<div>\n",
       "<style scoped>\n",
       "    .dataframe tbody tr th:only-of-type {\n",
       "        vertical-align: middle;\n",
       "    }\n",
       "\n",
       "    .dataframe tbody tr th {\n",
       "        vertical-align: top;\n",
       "    }\n",
       "\n",
       "    .dataframe thead th {\n",
       "        text-align: right;\n",
       "    }\n",
       "</style>\n",
       "<table border=\"1\" class=\"dataframe\">\n",
       "  <thead>\n",
       "    <tr style=\"text-align: right;\">\n",
       "      <th></th>\n",
       "      <th>response</th>\n",
       "    </tr>\n",
       "  </thead>\n",
       "  <tbody>\n",
       "    <tr>\n",
       "      <th>0</th>\n",
       "      <td>```json\\n{\\n    \"View 1\": \"My name is Sarah Th...</td>\n",
       "    </tr>\n",
       "    <tr>\n",
       "      <th>1</th>\n",
       "      <td>```json\\n{\\n    \"View 1\": \"My name is Sarah Th...</td>\n",
       "    </tr>\n",
       "    <tr>\n",
       "      <th>2</th>\n",
       "      <td>```json\\n{\\n    \"View 1\": \"My name is Sarah, I...</td>\n",
       "    </tr>\n",
       "    <tr>\n",
       "      <th>3</th>\n",
       "      <td>```json\\n{\\n    \"View 1\": \"My name is Sarah Jo...</td>\n",
       "    </tr>\n",
       "    <tr>\n",
       "      <th>4</th>\n",
       "      <td>```json\\n{\\n    \"View 1\": \"My name is Sarah Th...</td>\n",
       "    </tr>\n",
       "  </tbody>\n",
       "</table>\n",
       "</div>"
      ],
      "text/plain": [
       "                                            response\n",
       "0  ```json\\n{\\n    \"View 1\": \"My name is Sarah Th...\n",
       "1  ```json\\n{\\n    \"View 1\": \"My name is Sarah Th...\n",
       "2  ```json\\n{\\n    \"View 1\": \"My name is Sarah, I...\n",
       "3  ```json\\n{\\n    \"View 1\": \"My name is Sarah Jo...\n",
       "4  ```json\\n{\\n    \"View 1\": \"My name is Sarah Th..."
      ]
     },
     "execution_count": 13,
     "metadata": {},
     "output_type": "execute_result"
    }
   ],
   "source": [
    "domain_name = \"REDISTRIBUTION_MONEY\"\n",
    "view1_annot = \"REDISTRBUTE\"\n",
    "view2_annot = \"NOT-REDISTRIBUTE\"\n",
    "\n",
    "raw_file = os.path.join(gpt_response_raw_path, f\"{domain_name}_responses.csv\")\n",
    "raw_df = pd.read_csv(raw_file, index_col=0)\n",
    "raw_df.head()"
   ]
  },
  {
   "cell_type": "code",
   "execution_count": 14,
   "id": "2f5855c1",
   "metadata": {},
   "outputs": [
    {
     "name": "stderr",
     "output_type": "stream",
     "text": [
      "100%|██████████| 60/60 [00:00<00:00, 12072.83it/s]\n"
     ]
    },
    {
     "data": {
      "text/html": [
       "<div>\n",
       "<style scoped>\n",
       "    .dataframe tbody tr th:only-of-type {\n",
       "        vertical-align: middle;\n",
       "    }\n",
       "\n",
       "    .dataframe tbody tr th {\n",
       "        vertical-align: top;\n",
       "    }\n",
       "\n",
       "    .dataframe thead th {\n",
       "        text-align: right;\n",
       "    }\n",
       "</style>\n",
       "<table border=\"1\" class=\"dataframe\">\n",
       "  <thead>\n",
       "    <tr style=\"text-align: right;\">\n",
       "      <th></th>\n",
       "      <th>response</th>\n",
       "      <th>REDISTRBUTE</th>\n",
       "      <th>NOT-REDISTRIBUTE</th>\n",
       "    </tr>\n",
       "  </thead>\n",
       "  <tbody>\n",
       "    <tr>\n",
       "      <th>0</th>\n",
       "      <td>```json\\n{\\n    \"View 1\": \"My name is Sarah Th...</td>\n",
       "      <td>My name is Sarah Thompson, a 34-year-old socia...</td>\n",
       "      <td>I am David Chen, a 45-year-old entrepreneur fr...</td>\n",
       "    </tr>\n",
       "    <tr>\n",
       "      <th>1</th>\n",
       "      <td>```json\\n{\\n    \"View 1\": \"My name is Sarah Th...</td>\n",
       "      <td>My name is Sarah Thompson, a 34-year-old socia...</td>\n",
       "      <td>I'm John Carter, a 45-year-old entrepreneur ba...</td>\n",
       "    </tr>\n",
       "    <tr>\n",
       "      <th>2</th>\n",
       "      <td>```json\\n{\\n    \"View 1\": \"My name is Sarah, I...</td>\n",
       "      <td>My name is Sarah, I’m 34 years old, and I live...</td>\n",
       "      <td>I’m Mark, a 45-year-old entrepreneur from Aust...</td>\n",
       "    </tr>\n",
       "    <tr>\n",
       "      <th>3</th>\n",
       "      <td>```json\\n{\\n    \"View 1\": \"My name is Sarah Jo...</td>\n",
       "      <td>My name is Sarah Johnson, a 35-year-old social...</td>\n",
       "      <td>I'm Michael Thompson, a 42-year-old entreprene...</td>\n",
       "    </tr>\n",
       "    <tr>\n",
       "      <th>4</th>\n",
       "      <td>```json\\n{\\n    \"View 1\": \"My name is Sarah Th...</td>\n",
       "      <td>My name is Sarah Thompson, a 34-year-old teach...</td>\n",
       "      <td>I’m David Kelly, a 45-year-old entrepreneur fr...</td>\n",
       "    </tr>\n",
       "  </tbody>\n",
       "</table>\n",
       "</div>"
      ],
      "text/plain": [
       "                                            response  \\\n",
       "0  ```json\\n{\\n    \"View 1\": \"My name is Sarah Th...   \n",
       "1  ```json\\n{\\n    \"View 1\": \"My name is Sarah Th...   \n",
       "2  ```json\\n{\\n    \"View 1\": \"My name is Sarah, I...   \n",
       "3  ```json\\n{\\n    \"View 1\": \"My name is Sarah Jo...   \n",
       "4  ```json\\n{\\n    \"View 1\": \"My name is Sarah Th...   \n",
       "\n",
       "                                         REDISTRBUTE  \\\n",
       "0  My name is Sarah Thompson, a 34-year-old socia...   \n",
       "1  My name is Sarah Thompson, a 34-year-old socia...   \n",
       "2  My name is Sarah, I’m 34 years old, and I live...   \n",
       "3  My name is Sarah Johnson, a 35-year-old social...   \n",
       "4  My name is Sarah Thompson, a 34-year-old teach...   \n",
       "\n",
       "                                    NOT-REDISTRIBUTE  \n",
       "0  I am David Chen, a 45-year-old entrepreneur fr...  \n",
       "1  I'm John Carter, a 45-year-old entrepreneur ba...  \n",
       "2  I’m Mark, a 45-year-old entrepreneur from Aust...  \n",
       "3  I'm Michael Thompson, a 42-year-old entreprene...  \n",
       "4  I’m David Kelly, a 45-year-old entrepreneur fr...  "
      ]
     },
     "execution_count": 14,
     "metadata": {},
     "output_type": "execute_result"
    }
   ],
   "source": [
    "view_1 = []\n",
    "view_2 = []\n",
    "\n",
    "for index, row in tqdm(raw_df.iterrows(), total=len(raw_df)):\n",
    "    response = row['response']\n",
    "    response = response.replace('```', '').replace('json', '')\n",
    "    try:\n",
    "        response_json = json.loads(response)\n",
    "        view_1.append(response_json['View 1'])\n",
    "        view_2.append(response_json['View 2'])\n",
    "    except Exception as e:\n",
    "        print(f\"Error parsing JSON for index {index}: {e}\")\n",
    "        view_1.append(None)\n",
    "        view_2.append(None)\n",
    "        \n",
    "raw_df[view1_annot] = view_1\n",
    "raw_df[view2_annot] = view_2\n",
    "raw_df.head()"
   ]
  },
  {
   "cell_type": "code",
   "execution_count": 15,
   "id": "423a3550",
   "metadata": {},
   "outputs": [],
   "source": [
    "raw_df.to_csv(os.path.join(processed_data_path, f\"{domain_name}_processed_responses.csv\"))"
   ]
  },
  {
   "cell_type": "markdown",
   "id": "0b64ae79",
   "metadata": {},
   "source": [
    "#### Decoding the data for Unemployment Benefits"
   ]
  },
  {
   "cell_type": "code",
   "execution_count": 16,
   "id": "9751ec89",
   "metadata": {},
   "outputs": [
    {
     "data": {
      "text/html": [
       "<div>\n",
       "<style scoped>\n",
       "    .dataframe tbody tr th:only-of-type {\n",
       "        vertical-align: middle;\n",
       "    }\n",
       "\n",
       "    .dataframe tbody tr th {\n",
       "        vertical-align: top;\n",
       "    }\n",
       "\n",
       "    .dataframe thead th {\n",
       "        text-align: right;\n",
       "    }\n",
       "</style>\n",
       "<table border=\"1\" class=\"dataframe\">\n",
       "  <thead>\n",
       "    <tr style=\"text-align: right;\">\n",
       "      <th></th>\n",
       "      <th>response</th>\n",
       "    </tr>\n",
       "  </thead>\n",
       "  <tbody>\n",
       "    <tr>\n",
       "      <th>0</th>\n",
       "      <td>```json\\n{\\n    \"View 1\": \"My name is Sarah, a...</td>\n",
       "    </tr>\n",
       "    <tr>\n",
       "      <th>1</th>\n",
       "      <td>```json\\n{\\n    \"View 1\": \"My name is John, a ...</td>\n",
       "    </tr>\n",
       "    <tr>\n",
       "      <th>2</th>\n",
       "      <td>```json\\n{\\n    \"View 1\": \"My name is Sarah Th...</td>\n",
       "    </tr>\n",
       "    <tr>\n",
       "      <th>3</th>\n",
       "      <td>```json\\n{\\n    \"View 1\": \"I'm Sarah, a 34-yea...</td>\n",
       "    </tr>\n",
       "    <tr>\n",
       "      <th>4</th>\n",
       "      <td>```json\\n{\\n    \"View 1\": \"My name is Maria Go...</td>\n",
       "    </tr>\n",
       "  </tbody>\n",
       "</table>\n",
       "</div>"
      ],
      "text/plain": [
       "                                            response\n",
       "0  ```json\\n{\\n    \"View 1\": \"My name is Sarah, a...\n",
       "1  ```json\\n{\\n    \"View 1\": \"My name is John, a ...\n",
       "2  ```json\\n{\\n    \"View 1\": \"My name is Sarah Th...\n",
       "3  ```json\\n{\\n    \"View 1\": \"I'm Sarah, a 34-yea...\n",
       "4  ```json\\n{\\n    \"View 1\": \"My name is Maria Go..."
      ]
     },
     "execution_count": 16,
     "metadata": {},
     "output_type": "execute_result"
    }
   ],
   "source": [
    "domain_name = \"UNEMPLOYMENT_BENEFITS\"\n",
    "view1_annot = \"BENEFITS\"\n",
    "view2_annot = \"NO-BENEFITS\"\n",
    "\n",
    "raw_file = os.path.join(gpt_response_raw_path, f\"{domain_name}_responses.csv\")\n",
    "raw_df = pd.read_csv(raw_file, index_col=0)\n",
    "raw_df.head()"
   ]
  },
  {
   "cell_type": "code",
   "execution_count": 17,
   "id": "68252af1",
   "metadata": {},
   "outputs": [
    {
     "name": "stderr",
     "output_type": "stream",
     "text": [
      "100%|██████████| 60/60 [00:00<00:00, 8367.69it/s]\n"
     ]
    },
    {
     "data": {
      "text/html": [
       "<div>\n",
       "<style scoped>\n",
       "    .dataframe tbody tr th:only-of-type {\n",
       "        vertical-align: middle;\n",
       "    }\n",
       "\n",
       "    .dataframe tbody tr th {\n",
       "        vertical-align: top;\n",
       "    }\n",
       "\n",
       "    .dataframe thead th {\n",
       "        text-align: right;\n",
       "    }\n",
       "</style>\n",
       "<table border=\"1\" class=\"dataframe\">\n",
       "  <thead>\n",
       "    <tr style=\"text-align: right;\">\n",
       "      <th></th>\n",
       "      <th>response</th>\n",
       "      <th>BENEFITS</th>\n",
       "      <th>NO-BENEFITS</th>\n",
       "    </tr>\n",
       "  </thead>\n",
       "  <tbody>\n",
       "    <tr>\n",
       "      <th>0</th>\n",
       "      <td>```json\\n{\\n    \"View 1\": \"My name is Sarah, a...</td>\n",
       "      <td>My name is Sarah, a 34-year-old single mother ...</td>\n",
       "      <td>I'm David, a 45-year-old small business owner ...</td>\n",
       "    </tr>\n",
       "    <tr>\n",
       "      <th>1</th>\n",
       "      <td>```json\\n{\\n    \"View 1\": \"My name is John, a ...</td>\n",
       "      <td>My name is John, a 45-year-old father of two l...</td>\n",
       "      <td>I’m Sarah, a 32-year-old entrepreneur from Aus...</td>\n",
       "    </tr>\n",
       "    <tr>\n",
       "      <th>2</th>\n",
       "      <td>```json\\n{\\n    \"View 1\": \"My name is Sarah Th...</td>\n",
       "      <td>My name is Sarah Thompson, a 34-year-old resid...</td>\n",
       "      <td>I’m John Carter, a 45-year-old entrepreneur fr...</td>\n",
       "    </tr>\n",
       "    <tr>\n",
       "      <th>3</th>\n",
       "      <td>```json\\n{\\n    \"View 1\": \"I'm Sarah, a 34-yea...</td>\n",
       "      <td>I'm Sarah, a 34-year-old single mother from De...</td>\n",
       "      <td>My name is John, a 45-year-old entrepreneur fr...</td>\n",
       "    </tr>\n",
       "    <tr>\n",
       "      <th>4</th>\n",
       "      <td>```json\\n{\\n    \"View 1\": \"My name is Maria Go...</td>\n",
       "      <td>My name is Maria Gonzalez, a 34-year-old singl...</td>\n",
       "      <td>I’m James Thompson, a 45-year-old entrepreneur...</td>\n",
       "    </tr>\n",
       "  </tbody>\n",
       "</table>\n",
       "</div>"
      ],
      "text/plain": [
       "                                            response  \\\n",
       "0  ```json\\n{\\n    \"View 1\": \"My name is Sarah, a...   \n",
       "1  ```json\\n{\\n    \"View 1\": \"My name is John, a ...   \n",
       "2  ```json\\n{\\n    \"View 1\": \"My name is Sarah Th...   \n",
       "3  ```json\\n{\\n    \"View 1\": \"I'm Sarah, a 34-yea...   \n",
       "4  ```json\\n{\\n    \"View 1\": \"My name is Maria Go...   \n",
       "\n",
       "                                            BENEFITS  \\\n",
       "0  My name is Sarah, a 34-year-old single mother ...   \n",
       "1  My name is John, a 45-year-old father of two l...   \n",
       "2  My name is Sarah Thompson, a 34-year-old resid...   \n",
       "3  I'm Sarah, a 34-year-old single mother from De...   \n",
       "4  My name is Maria Gonzalez, a 34-year-old singl...   \n",
       "\n",
       "                                         NO-BENEFITS  \n",
       "0  I'm David, a 45-year-old small business owner ...  \n",
       "1  I’m Sarah, a 32-year-old entrepreneur from Aus...  \n",
       "2  I’m John Carter, a 45-year-old entrepreneur fr...  \n",
       "3  My name is John, a 45-year-old entrepreneur fr...  \n",
       "4  I’m James Thompson, a 45-year-old entrepreneur...  "
      ]
     },
     "execution_count": 17,
     "metadata": {},
     "output_type": "execute_result"
    }
   ],
   "source": [
    "view_1 = []\n",
    "view_2 = []\n",
    "\n",
    "for index, row in tqdm(raw_df.iterrows(), total=len(raw_df)):\n",
    "    response = row['response']\n",
    "    response = response.replace('```', '').replace('json', '')\n",
    "    try:\n",
    "        response_json = json.loads(response)\n",
    "        view_1.append(response_json['View 1'])\n",
    "        view_2.append(response_json['View 2'])\n",
    "    except Exception as e:\n",
    "        print(f\"Error parsing JSON for index {index}: {e}\")\n",
    "        view_1.append(None)\n",
    "        view_2.append(None)\n",
    "        \n",
    "raw_df[view1_annot] = view_1\n",
    "raw_df[view2_annot] = view_2\n",
    "raw_df.head()"
   ]
  },
  {
   "cell_type": "code",
   "execution_count": 18,
   "id": "4a3bb182",
   "metadata": {},
   "outputs": [],
   "source": [
    "raw_df.to_csv(os.path.join(processed_data_path, f\"{domain_name}_processed_responses.csv\"))"
   ]
  },
  {
   "cell_type": "markdown",
   "id": "9723bbae",
   "metadata": {},
   "source": [
    "#### Decoding the data for Punishment Severity"
   ]
  },
  {
   "cell_type": "code",
   "execution_count": 19,
   "id": "095d0a66",
   "metadata": {},
   "outputs": [
    {
     "data": {
      "text/html": [
       "<div>\n",
       "<style scoped>\n",
       "    .dataframe tbody tr th:only-of-type {\n",
       "        vertical-align: middle;\n",
       "    }\n",
       "\n",
       "    .dataframe tbody tr th {\n",
       "        vertical-align: top;\n",
       "    }\n",
       "\n",
       "    .dataframe thead th {\n",
       "        text-align: right;\n",
       "    }\n",
       "</style>\n",
       "<table border=\"1\" class=\"dataframe\">\n",
       "  <thead>\n",
       "    <tr style=\"text-align: right;\">\n",
       "      <th></th>\n",
       "      <th>response</th>\n",
       "    </tr>\n",
       "  </thead>\n",
       "  <tbody>\n",
       "    <tr>\n",
       "      <th>0</th>\n",
       "      <td>```json\\n{\\n    \"View 1\": \"My name is John Mil...</td>\n",
       "    </tr>\n",
       "    <tr>\n",
       "      <th>1</th>\n",
       "      <td>```json\\n{\\n    \"View 1\": \"My name is John Smi...</td>\n",
       "    </tr>\n",
       "    <tr>\n",
       "      <th>2</th>\n",
       "      <td>```json\\n{\\n    \"View 1\": \"As a 45-year-old la...</td>\n",
       "    </tr>\n",
       "    <tr>\n",
       "      <th>3</th>\n",
       "      <td>{\\n    \"View 1\": \"My name is John Adams, a 45-...</td>\n",
       "    </tr>\n",
       "    <tr>\n",
       "      <th>4</th>\n",
       "      <td>```json\\n{\\n    \"View 1\": \"My name is James Th...</td>\n",
       "    </tr>\n",
       "  </tbody>\n",
       "</table>\n",
       "</div>"
      ],
      "text/plain": [
       "                                            response\n",
       "0  ```json\\n{\\n    \"View 1\": \"My name is John Mil...\n",
       "1  ```json\\n{\\n    \"View 1\": \"My name is John Smi...\n",
       "2  ```json\\n{\\n    \"View 1\": \"As a 45-year-old la...\n",
       "3  {\\n    \"View 1\": \"My name is John Adams, a 45-...\n",
       "4  ```json\\n{\\n    \"View 1\": \"My name is James Th..."
      ]
     },
     "execution_count": 19,
     "metadata": {},
     "output_type": "execute_result"
    }
   ],
   "source": [
    "domain_name = \"PUNISHMENT_SEVERITY\"\n",
    "view1_annot = \"PUNISHMENT\"\n",
    "view2_annot = \"NO-PUNISHMENT\"\n",
    "\n",
    "raw_file = os.path.join(gpt_response_raw_path, f\"{domain_name}_responses.csv\")\n",
    "raw_df = pd.read_csv(raw_file, index_col=0)\n",
    "raw_df.head()"
   ]
  },
  {
   "cell_type": "code",
   "execution_count": 20,
   "id": "3b49dd50",
   "metadata": {},
   "outputs": [
    {
     "name": "stderr",
     "output_type": "stream",
     "text": [
      "100%|██████████| 60/60 [00:00<00:00, 11101.43it/s]\n"
     ]
    },
    {
     "data": {
      "text/html": [
       "<div>\n",
       "<style scoped>\n",
       "    .dataframe tbody tr th:only-of-type {\n",
       "        vertical-align: middle;\n",
       "    }\n",
       "\n",
       "    .dataframe tbody tr th {\n",
       "        vertical-align: top;\n",
       "    }\n",
       "\n",
       "    .dataframe thead th {\n",
       "        text-align: right;\n",
       "    }\n",
       "</style>\n",
       "<table border=\"1\" class=\"dataframe\">\n",
       "  <thead>\n",
       "    <tr style=\"text-align: right;\">\n",
       "      <th></th>\n",
       "      <th>response</th>\n",
       "      <th>PUNISHMENT</th>\n",
       "      <th>NO-PUNISHMENT</th>\n",
       "    </tr>\n",
       "  </thead>\n",
       "  <tbody>\n",
       "    <tr>\n",
       "      <th>0</th>\n",
       "      <td>```json\\n{\\n    \"View 1\": \"My name is John Mil...</td>\n",
       "      <td>My name is John Miller, a 45-year-old law enfo...</td>\n",
       "      <td>I’m Sarah Thompson, a 32-year-old social worke...</td>\n",
       "    </tr>\n",
       "    <tr>\n",
       "      <th>1</th>\n",
       "      <td>```json\\n{\\n    \"View 1\": \"My name is John Smi...</td>\n",
       "      <td>My name is John Smith, a 45-year-old police of...</td>\n",
       "      <td>I am Maria Lopez, a 32-year-old social worker ...</td>\n",
       "    </tr>\n",
       "    <tr>\n",
       "      <th>2</th>\n",
       "      <td>```json\\n{\\n    \"View 1\": \"As a 45-year-old la...</td>\n",
       "      <td>As a 45-year-old law enforcement officer from ...</td>\n",
       "      <td>As a 32-year-old social worker from Toronto, I...</td>\n",
       "    </tr>\n",
       "    <tr>\n",
       "      <th>3</th>\n",
       "      <td>{\\n    \"View 1\": \"My name is John Adams, a 45-...</td>\n",
       "      <td>My name is John Adams, a 45-year-old law enfor...</td>\n",
       "      <td>I’m Maria Lopez, a 32-year-old social worker f...</td>\n",
       "    </tr>\n",
       "    <tr>\n",
       "      <th>4</th>\n",
       "      <td>```json\\n{\\n    \"View 1\": \"My name is James Th...</td>\n",
       "      <td>My name is James Thompson, a 45-year-old law e...</td>\n",
       "      <td>I am Maria Gonzalez, a 32-year-old social work...</td>\n",
       "    </tr>\n",
       "  </tbody>\n",
       "</table>\n",
       "</div>"
      ],
      "text/plain": [
       "                                            response  \\\n",
       "0  ```json\\n{\\n    \"View 1\": \"My name is John Mil...   \n",
       "1  ```json\\n{\\n    \"View 1\": \"My name is John Smi...   \n",
       "2  ```json\\n{\\n    \"View 1\": \"As a 45-year-old la...   \n",
       "3  {\\n    \"View 1\": \"My name is John Adams, a 45-...   \n",
       "4  ```json\\n{\\n    \"View 1\": \"My name is James Th...   \n",
       "\n",
       "                                          PUNISHMENT  \\\n",
       "0  My name is John Miller, a 45-year-old law enfo...   \n",
       "1  My name is John Smith, a 45-year-old police of...   \n",
       "2  As a 45-year-old law enforcement officer from ...   \n",
       "3  My name is John Adams, a 45-year-old law enfor...   \n",
       "4  My name is James Thompson, a 45-year-old law e...   \n",
       "\n",
       "                                       NO-PUNISHMENT  \n",
       "0  I’m Sarah Thompson, a 32-year-old social worke...  \n",
       "1  I am Maria Lopez, a 32-year-old social worker ...  \n",
       "2  As a 32-year-old social worker from Toronto, I...  \n",
       "3  I’m Maria Lopez, a 32-year-old social worker f...  \n",
       "4  I am Maria Gonzalez, a 32-year-old social work...  "
      ]
     },
     "execution_count": 20,
     "metadata": {},
     "output_type": "execute_result"
    }
   ],
   "source": [
    "view_1 = []\n",
    "view_2 = []\n",
    "\n",
    "for index, row in tqdm(raw_df.iterrows(), total=len(raw_df)):\n",
    "    response = row['response']\n",
    "    response = response.replace('```', '').replace('json', '')\n",
    "    try:\n",
    "        response_json = json.loads(response)\n",
    "        view_1.append(response_json['View 1'])\n",
    "        view_2.append(response_json['View 2'])\n",
    "    except Exception as e:\n",
    "        print(f\"Error parsing JSON for index {index}: {e}\")\n",
    "        view_1.append(None)\n",
    "        view_2.append(None)\n",
    "        \n",
    "raw_df[view1_annot] = view_1\n",
    "raw_df[view2_annot] = view_2\n",
    "raw_df.head()"
   ]
  },
  {
   "cell_type": "code",
   "execution_count": 21,
   "id": "481c21a1",
   "metadata": {},
   "outputs": [],
   "source": [
    "raw_df.to_csv(os.path.join(processed_data_path, f\"{domain_name}_processed_responses.csv\"))"
   ]
  },
  {
   "cell_type": "code",
   "execution_count": null,
   "id": "ad460e2a",
   "metadata": {},
   "outputs": [],
   "source": []
  }
 ],
 "metadata": {
  "kernelspec": {
   "display_name": "norm_elasticity",
   "language": "python",
   "name": "python3"
  },
  "language_info": {
   "codemirror_mode": {
    "name": "ipython",
    "version": 3
   },
   "file_extension": ".py",
   "mimetype": "text/x-python",
   "name": "python",
   "nbconvert_exporter": "python",
   "pygments_lexer": "ipython3",
   "version": "3.12.11"
  }
 },
 "nbformat": 4,
 "nbformat_minor": 5
}
